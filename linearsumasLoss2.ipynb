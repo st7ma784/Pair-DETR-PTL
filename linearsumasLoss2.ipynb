{
 "cells": [
  {
   "cell_type": "code",
   "execution_count": null,
   "metadata": {},
   "outputs": [],
   "source": []
  },
  {
   "cell_type": "markdown",
   "metadata": {},
   "source": [
    "This file is about trialling LSA as an approximator of loss. \n"
   ]
  },
  {
   "cell_type": "code",
   "execution_count": 20,
   "metadata": {},
   "outputs": [
    {
     "name": "stdout",
     "output_type": "stream",
     "text": [
      "torch.Size([30, 40, 40])\n",
      "tensor([[0, 0, 0,  ..., 0, 0, 0],\n",
      "        [0, 0, 0,  ..., 0, 0, 0],\n",
      "        [0, 0, 0,  ..., 0, 0, 0],\n",
      "        ...,\n",
      "        [0, 0, 0,  ..., 0, 0, 0],\n",
      "        [0, 0, 0,  ..., 0, 0, 0],\n",
      "        [0, 1, 0,  ..., 0, 0, 0]])\n"
     ]
    }
   ],
   "source": [
    "#build a set of LSA compliant tensors\n",
    "import torch\n",
    "B=30\n",
    "Base=torch.arange(0, 40, 1, dtype=torch.float32)\n",
    "#repeat the base tensor 10 times\n",
    "Base=Base.unsqueeze(-1).repeat(1,B)\n",
    "#shuffle the base tensor\n",
    "Base=Base[torch.randperm(Base.size()[0])]\n",
    "#one hot encode the base tensor (100x100xB)\n",
    "Base=torch.nn.functional.one_hot(Base.to(torch.int64), num_classes=40).permute(1,0,2)\n",
    "print(Base.shape)\n",
    "print(Base[0])\n"
   ]
  },
  {
   "cell_type": "code",
   "execution_count": 33,
   "metadata": {},
   "outputs": [
    {
     "name": "stdout",
     "output_type": "stream",
     "text": [
      "-------------------------------------------------------  ------------  ------------  ------------  ------------  ------------  ------------  ------------  ------------  ------------  ------------  ------------  ------------  ------------  ------------  \n",
      "                                                   Name    Self CPU %      Self CPU   CPU total %     CPU total  CPU time avg     Self CUDA   Self CUDA %    CUDA total  CUDA time avg       CPU Mem  Self CPU Mem      CUDA Mem  Self CUDA Mem    # of Calls  \n",
      "-------------------------------------------------------  ------------  ------------  ------------  ------------  ------------  ------------  ------------  ------------  ------------  ------------  ------------  ------------  ------------  ------------  \n",
      "                               aten::cross_entropy_loss         4.06%      30.000us        48.04%     355.000us     355.000us      26.000us         3.18%     361.000us     361.000us           0 b           0 b       5.00 Kb    -187.50 Kb             1  \n",
      "                                           aten::arange         8.25%      61.000us        24.09%     178.000us      89.000us     144.000us        17.63%     323.000us     161.500us           0 b           0 b       1.00 Kb           0 b             2  \n",
      "                                           aten::repeat        14.34%     106.000us        31.12%     230.000us     230.000us      73.000us         8.94%     236.000us     236.000us           0 b           0 b       9.50 Kb           0 b             1  \n",
      "                                      aten::nll_loss_nd         7.85%      58.000us        23.00%     170.000us     170.000us      41.000us         5.02%     175.000us     175.000us           0 b           0 b       5.00 Kb        -512 b             1  \n",
      "                                      aten::log_softmax         4.06%      30.000us        20.97%     155.000us     155.000us      22.000us         2.69%     160.000us     160.000us           0 b           0 b     187.50 Kb           0 b             1  \n",
      "                                     aten::_log_softmax         4.60%      34.000us        16.91%     125.000us     125.000us      46.000us         5.63%     133.000us     133.000us           0 b           0 b     187.50 Kb           0 b             1  \n",
      "                                       aten::nll_loss2d         2.30%      17.000us        13.94%     103.000us     103.000us      17.000us         2.08%     109.000us     109.000us           0 b           0 b       5.50 Kb           0 b             1  \n",
      "                               aten::nll_loss2d_forward         8.39%      62.000us        11.64%      86.000us      86.000us      55.000us         6.73%      92.000us      92.000us           0 b           0 b       5.50 Kb           0 b             1  \n",
      "                                       aten::contiguous         1.89%      14.000us        11.10%      82.000us      82.000us      13.000us         1.59%      87.000us      87.000us           0 b           0 b     187.50 Kb           0 b             1  \n",
      "                                            aten::clone         3.79%      28.000us         9.20%      68.000us      68.000us      23.000us         2.82%      74.000us      74.000us           0 b           0 b     187.50 Kb           0 b             1  \n",
      "                                            aten::copy_         5.28%      39.000us         7.98%      59.000us      29.500us      71.000us         8.69%      71.000us      35.500us           0 b           0 b           0 b           0 b             2  \n",
      "                                            aten::empty         4.74%      35.000us         4.74%      35.000us       7.000us      63.000us         7.71%      63.000us      12.600us           0 b           0 b     197.00 Kb     197.00 Kb             5  \n",
      "                                           aten::expand         4.06%      30.000us         4.60%      34.000us      17.000us      29.000us         3.55%      44.000us      22.000us           0 b           0 b           0 b           0 b             2  \n",
      "                                          aten::resize_         3.25%      24.000us         3.25%      24.000us       8.000us      39.000us         4.77%      39.000us      13.000us           0 b           0 b       6.00 Kb       6.00 Kb             3  \n",
      "                                           aten::unfold         3.65%      27.000us         3.79%      28.000us      14.000us      27.000us         3.30%      39.000us      19.500us           0 b           0 b           0 b           0 b             2  \n",
      "                                        aten::unsqueeze         3.79%      28.000us         4.33%      32.000us      32.000us      27.000us         3.30%      37.000us      37.000us           0 b           0 b           0 b           0 b             1  \n",
      "                                       aten::as_strided         1.22%       9.000us         1.22%       9.000us       1.800us      37.000us         4.53%      37.000us       7.400us           0 b           0 b           0 b           0 b             5  \n",
      "                                        aten::expand_as         1.62%      12.000us         3.65%      27.000us      27.000us      12.000us         1.47%      32.000us      32.000us           0 b           0 b           0 b           0 b             1  \n",
      "                                       aten::empty_like         2.03%      15.000us         2.71%      20.000us      20.000us      14.000us         1.71%      25.000us      25.000us           0 b           0 b     187.50 Kb           0 b             1  \n",
      "                                             aten::view         1.22%       9.000us         1.22%       9.000us       3.000us      25.000us         3.06%      25.000us       8.333us           0 b           0 b           0 b           0 b             3  \n",
      "                                            aten::alias         0.27%       2.000us         0.27%       2.000us       2.000us       8.000us         0.98%       8.000us       8.000us           0 b           0 b           0 b           0 b             1  \n",
      "                                               aten::to         0.00%       0.000us         0.00%       0.000us       0.000us       5.000us         0.61%       5.000us       5.000us           0 b           0 b           0 b           0 b             1  \n",
      "                                       cudaLaunchKernel         7.71%      57.000us         7.71%      57.000us      11.400us       0.000us         0.00%       0.000us       0.000us           0 b           0 b           0 b           0 b             5  \n",
      "                                               [memory]         0.00%       0.000us         0.00%       0.000us       0.000us       0.000us         0.00%       0.000us       0.000us           0 b           0 b     -15.00 Kb     -15.00 Kb             3  \n",
      "cudaOccupancyMaxActiveBlocksPerMultiprocessorWithFla...         0.41%       3.000us         0.41%       3.000us       3.000us       0.000us         0.00%       0.000us       0.000us           0 b           0 b           0 b           0 b             1  \n",
      "                                  cudaDeviceSynchronize         1.22%       9.000us         1.22%       9.000us       9.000us       0.000us         0.00%       0.000us       0.000us           0 b           0 b           0 b           0 b             1  \n",
      "-------------------------------------------------------  ------------  ------------  ------------  ------------  ------------  ------------  ------------  ------------  ------------  ------------  ------------  ------------  ------------  ------------  \n",
      "Self CPU time total: 739.000us\n",
      "Self CUDA time total: 817.000us\n",
      "\n",
      "torch.Size([30, 40])\n"
     ]
    },
    {
     "name": "stderr",
     "output_type": "stream",
     "text": [
      "STAGE:2023-10-03 13:27:25 9428:9428 ActivityProfilerController.cpp:311] Completed Stage: Warm Up\n",
      "STAGE:2023-10-03 13:27:25 9428:9428 ActivityProfilerController.cpp:317] Completed Stage: Collection\n",
      "STAGE:2023-10-03 13:27:25 9428:9428 ActivityProfilerController.cpp:321] Completed Stage: Post Processing\n"
     ]
    }
   ],
   "source": [
    "Loss=torch.nn.CrossEntropyLoss(reduction=\"none\")\n",
    "Base=Base.float().to(\"cuda\")\n",
    "#profile how long it takes to compute the loss\n",
    "\n",
    "with torch.autograd.profiler.profile(use_cuda=True, profile_memory=True) as prof: \n",
    "    tgt=torch.arange(Base.shape[-1], dtype=torch.int64,device=Base.device).unsqueeze(0).repeat(Base.shape[0],1)\n",
    "    loss=Loss(Base, tgt)\n",
    "\n",
    "print(prof.key_averages().table(sort_by=\"cuda_time_total\"))\n",
    "print(loss.shape)\n"
   ]
  }
 ],
 "metadata": {
  "kernelspec": {
   "display_name": "open-ce",
   "language": "python",
   "name": "python3"
  },
  "language_info": {
   "codemirror_mode": {
    "name": "ipython",
    "version": 3
   },
   "file_extension": ".py",
   "mimetype": "text/x-python",
   "name": "python",
   "nbconvert_exporter": "python",
   "pygments_lexer": "ipython3",
   "version": "3.9.16"
  },
  "orig_nbformat": 4
 },
 "nbformat": 4,
 "nbformat_minor": 2
}
